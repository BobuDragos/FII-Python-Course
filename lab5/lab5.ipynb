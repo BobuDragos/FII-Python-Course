{
 "cells": [
  {
   "cell_type": "markdown",
   "metadata": {},
   "source": [
    "## Exercise 1"
   ]
  },
  {
   "cell_type": "markdown",
   "metadata": {},
   "source": [
    "#### a)"
   ]
  },
  {
   "cell_type": "markdown",
   "metadata": {},
   "source": [
    "***\n",
    "Write a module named utils.py that contains one function called process_item. The function will have one parameter, x, and will return the least prime number greater than x. When run, the module will request an input from the user, convert it to a number and it will display the output of the process_item function.\n",
    "***"
   ]
  },
  {
   "cell_type": "markdown",
   "metadata": {},
   "source": [
    "Solution:"
   ]
  },
  {
   "cell_type": "code",
   "execution_count": null,
   "metadata": {},
   "outputs": [],
   "source": []
  },
  {
   "cell_type": "markdown",
   "metadata": {},
   "source": [
    "### b)"
   ]
  },
  {
   "cell_type": "markdown",
   "metadata": {},
   "source": [
    "***\n",
    "Write a module named app.py. When this module is run, it will run in an infinite loop, waiting for inputs from the user. The program will convert the input to a number and process it using the function process_item implented in utils.py. You will have to import this function in your module. The program stops when the user enters the message \"q\".\n",
    "***"
   ]
  },
  {
   "cell_type": "markdown",
   "metadata": {},
   "source": [
    "Solution:"
   ]
  },
  {
   "cell_type": "code",
   "execution_count": null,
   "metadata": {},
   "outputs": [],
   "source": []
  },
  {
   "cell_type": "markdown",
   "metadata": {},
   "source": [
    "## Exercise 2"
   ]
  },
  {
   "cell_type": "markdown",
   "metadata": {},
   "source": [
    "***\n",
    "Create a function and an anonymous function that receive a variable number of arguments. Both will return the sum of the values of the keyword arguments.\n",
    "***"
   ]
  },
  {
   "cell_type": "markdown",
   "metadata": {},
   "source": [
    "Example:"
   ]
  },
  {
   "cell_type": "code",
   "execution_count": 15,
   "metadata": {},
   "outputs": [],
   "source": [
    "# For the call \n",
    "# \n",
    "# my_function(1, 2, c=3, d=4) \n",
    "# \n",
    "# the returned value will be 7."
   ]
  },
  {
   "cell_type": "markdown",
   "metadata": {},
   "source": [
    "Solution:"
   ]
  },
  {
   "cell_type": "code",
   "execution_count": null,
   "metadata": {},
   "outputs": [],
   "source": []
  },
  {
   "cell_type": "markdown",
   "metadata": {},
   "source": [
    "## Exercise 3"
   ]
  },
  {
   "cell_type": "markdown",
   "metadata": {},
   "source": [
    "***\n",
    "Using functions, anonymous functions, list comprehensions and filter, implement three methods to generate a list with all the vowels in a given string.\n",
    "***"
   ]
  },
  {
   "cell_type": "markdown",
   "metadata": {},
   "source": [
    "Example:"
   ]
  },
  {
   "cell_type": "code",
   "execution_count": 16,
   "metadata": {},
   "outputs": [],
   "source": [
    "# For the string \"Programming in Python is fun\"\n",
    "#  \n",
    "# the list returned will be ['o', 'a', 'i', 'i', 'o', 'i', 'u']."
   ]
  },
  {
   "cell_type": "markdown",
   "metadata": {},
   "source": [
    "Solution:"
   ]
  },
  {
   "cell_type": "code",
   "execution_count": null,
   "metadata": {},
   "outputs": [],
   "source": []
  },
  {
   "cell_type": "markdown",
   "metadata": {},
   "source": [
    "## Exercise 4\n"
   ]
  },
  {
   "cell_type": "markdown",
   "metadata": {},
   "source": [
    "***\n",
    "Write a function that receives a variable number of arguments and keyword arguments. The function returns a list containing only the arguments which are dictionaries, containing minimum 2 keys and at least one string key with minimum 3 characters.\n",
    "***"
   ]
  },
  {
   "cell_type": "markdown",
   "metadata": {},
   "source": [
    "Example:"
   ]
  },
  {
   "cell_type": "code",
   "execution_count": 17,
   "metadata": {},
   "outputs": [
    {
     "name": "stdout",
     "output_type": "stream",
     "text": [
      "\n"
     ]
    }
   ],
   "source": [
    "my_function(\n",
    "{1: 2, 3: 4, 5: 6},\n",
    "{'a': 5, 'b': 7, 'c': 'e'}, \n",
    "{2: 3}, \n",
    "[1, 2, 3],\n",
    "{'abc': 4, 'def': 5},\n",
    "3764,\n",
    "dictionar={'ab': 4, 'ac': 'abcde', 'fg': 'abc'},\n",
    "test={1: 1, 'test': True})\n",
    "\n",
    "\n",
    "# will return: \n",
    "# [{'abc': 4, 'def': 5}, {1: 1, 'test': True}]"
   ]
  },
  {
   "cell_type": "markdown",
   "metadata": {},
   "source": [
    "Solution:"
   ]
  },
  {
   "cell_type": "code",
   "execution_count": 18,
   "metadata": {},
   "outputs": [],
   "source": [
    "def my_function(*argvs, dictionar, test):\n",
    "    print()"
   ]
  },
  {
   "cell_type": "markdown",
   "metadata": {},
   "source": [
    "## Exercise 5"
   ]
  },
  {
   "cell_type": "markdown",
   "metadata": {},
   "source": [
    "***\n",
    "Write a function with one parameter which represents a list. The function will return a new list containing all the numbers found in the given list.\n",
    "***"
   ]
  },
  {
   "cell_type": "markdown",
   "metadata": {},
   "source": [
    "Example:"
   ]
  },
  {
   "cell_type": "code",
   "execution_count": 19,
   "metadata": {},
   "outputs": [
    {
     "name": "stdout",
     "output_type": "stream",
     "text": [
      "\n"
     ]
    }
   ],
   "source": [
    "my_function5(\n",
    "    [1,\n",
    "     \"2\", \n",
    "    {\"3\": \"a\"},\n",
    "    {4, 5}, \n",
    "    5, \n",
    "    6, \n",
    "    3.0])\n",
    "\n",
    "# will return \n",
    "# [1, 5, 6, 3.0]"
   ]
  },
  {
   "cell_type": "markdown",
   "metadata": {},
   "source": [
    "Solution:"
   ]
  },
  {
   "cell_type": "code",
   "execution_count": 20,
   "metadata": {},
   "outputs": [],
   "source": [
    "def my_function5(list):\n",
    "    print()"
   ]
  },
  {
   "cell_type": "markdown",
   "metadata": {},
   "source": [
    "## Exercise 6"
   ]
  },
  {
   "cell_type": "markdown",
   "metadata": {},
   "source": [
    "***\n",
    "Write a function that receives a list with integers as parameter that contains an equal number of even and odd numbers that are in no specific order. The function should return a list of pairs (tuples of 2 elements) of numbers (Xi, Yi) such that Xi is the i-th even number in the list and Yi is the i-th odd number\n",
    "***"
   ]
  },
  {
   "cell_type": "markdown",
   "metadata": {},
   "source": [
    "Example:"
   ]
  },
  {
   "cell_type": "code",
   "execution_count": 23,
   "metadata": {},
   "outputs": [
    {
     "name": "stdout",
     "output_type": "stream",
     "text": [
      "\n"
     ]
    }
   ],
   "source": [
    "my_function6([1, 3, 5, 2, 8, 7, 4, 10, 9, 2]) \n",
    "\n",
    "# will return \n",
    "# [(2, 1), (8, 3), (4, 5), (10, 7), (2, 9)]"
   ]
  },
  {
   "cell_type": "markdown",
   "metadata": {},
   "source": [
    "Solution:"
   ]
  },
  {
   "cell_type": "code",
   "execution_count": 24,
   "metadata": {},
   "outputs": [],
   "source": [
    "def my_function6(list):\n",
    "    print()"
   ]
  },
  {
   "cell_type": "markdown",
   "metadata": {},
   "source": [
    "## Exercise 7"
   ]
  },
  {
   "cell_type": "markdown",
   "metadata": {},
   "source": [
    "***\n",
    "Write a function called process that receives a variable number of keyword arguments\n",
    "\n",
    "The function generates the first 1000 numbers of the Fibonacci sequence and then processes them in the following way:\n",
    "\n",
    "If the function receives a parameter called filters, this will be a list of predicates (function receiving an argument and returning True/False) and will retain from the generated numbers only those for which the predicates are True. \n",
    "\n",
    "If the function receives a parameter called limit, it will return only that amount of numbers from the sequence. \n",
    "\n",
    "If the function receives a parameter called offset, it will skip that number of entries from the beginning of the result list. \n",
    "\n",
    "The function will return the processed numbers.\n",
    "***"
   ]
  },
  {
   "cell_type": "markdown",
   "metadata": {},
   "source": [
    "Example:"
   ]
  },
  {
   "cell_type": "code",
   "execution_count": null,
   "metadata": {},
   "outputs": [],
   "source": [
    "def sum_digits(x):\n",
    "    return sum(map(int, str(x)))\n",
    "\n",
    "process(\n",
    "    filters=[lambda item: item % 2 == 0, lambda item: item == 2 or 4 <= sum_digits(item) <= 20],\n",
    "    limit=2,\n",
    "    offset=2\n",
    ")\n",
    "# returns [34, 144]"
   ]
  },
  {
   "cell_type": "markdown",
   "metadata": {},
   "source": [
    "Explanation:"
   ]
  },
  {
   "cell_type": "code",
   "execution_count": null,
   "metadata": {},
   "outputs": [],
   "source": [
    "# Fibonacci sequence will be: 0, 1, 1, 2, 3, 5, 8, 13, 21, 34, 55, 89, 144, 233, 377, 610...\n",
    "\n",
    "# Valid numbers are: 2, 8, 34, 144, 610, 2584, 10946, 832040\n",
    "\n",
    "# After offset: 34, 144, 610, 2584, 10946, 832040\n",
    "\n",
    "# After limit: 34, 144"
   ]
  },
  {
   "cell_type": "markdown",
   "metadata": {},
   "source": [
    "Solution:"
   ]
  },
  {
   "cell_type": "code",
   "execution_count": null,
   "metadata": {},
   "outputs": [],
   "source": [
    "def process(filters, limit, offset):\n",
    "    print()"
   ]
  },
  {
   "cell_type": "markdown",
   "metadata": {},
   "source": [
    "## Exercise 8"
   ]
  },
  {
   "cell_type": "markdown",
   "metadata": {},
   "source": [
    "#### a)"
   ]
  },
  {
   "cell_type": "markdown",
   "metadata": {},
   "source": [
    "***\n",
    "Write a function called print_arguments with one parameter named function. \n",
    "\n",
    "The function will return one new function which prints the arguments and the keyword arguments received and will return the output of the function receives as a parameter.\n",
    "***"
   ]
  },
  {
   "cell_type": "markdown",
   "metadata": {},
   "source": [
    "Example:"
   ]
  },
  {
   "cell_type": "code",
   "execution_count": 28,
   "metadata": {},
   "outputs": [
    {
     "name": "stdout",
     "output_type": "stream",
     "text": [
      "\n",
      "\n"
     ]
    }
   ],
   "source": [
    "def multiply_by_two(x):\n",
    "\n",
    "    return x * 2\n",
    "\n",
    "\n",
    "\n",
    "def add_numbers(a, b):\n",
    "\n",
    "    return a + b\n",
    "\n",
    "\n",
    "\n",
    "augmented_multiply_by_two = print_arguments(multiply_by_two)\n",
    "\n",
    "x = augmented_multiply_by_two(10)  \n",
    "# this will print: Arguments are: (10,), {} and will return 20.\n",
    "\n",
    "\n",
    "\n",
    "augmented_add_numbers = print_arguments(add_numbers)\n",
    "\n",
    "x = augmented_add_numbers(3, 4)\n",
    "# this will print: Arguments are: (3, 4), {} and will return 7."
   ]
  },
  {
   "cell_type": "markdown",
   "metadata": {},
   "source": [
    "Solution:"
   ]
  },
  {
   "cell_type": "code",
   "execution_count": 29,
   "metadata": {},
   "outputs": [],
   "source": [
    "def print_arguments(function):\n",
    "    print()\n",
    "    return function"
   ]
  },
  {
   "cell_type": "markdown",
   "metadata": {},
   "source": [
    "#### b)"
   ]
  },
  {
   "cell_type": "markdown",
   "metadata": {},
   "source": [
    "***\n",
    "Write a function called multiply_output with one parameter named function. The function will return one new function which returns the output of the function received multiplied by 2.\n",
    "***"
   ]
  },
  {
   "cell_type": "markdown",
   "metadata": {},
   "source": [
    "Example:"
   ]
  },
  {
   "cell_type": "code",
   "execution_count": 31,
   "metadata": {},
   "outputs": [],
   "source": [
    "def multiply_by_three(x):\n",
    "\n",
    "    return x * 3\n",
    "\n",
    "augmented_multiply_by_three = multiply_output(multiply_by_three)\n",
    "\n",
    "x = augmented_multiply_by_three(10)  \n",
    "# this will return 2 * (10 * 3)"
   ]
  },
  {
   "cell_type": "markdown",
   "metadata": {},
   "source": [
    "Solution:"
   ]
  },
  {
   "cell_type": "code",
   "execution_count": 32,
   "metadata": {},
   "outputs": [],
   "source": [
    "def multiply_output(function):\n",
    "    return function"
   ]
  },
  {
   "cell_type": "markdown",
   "metadata": {},
   "source": [
    "#### c)"
   ]
  },
  {
   "cell_type": "markdown",
   "metadata": {},
   "source": [
    "***\n",
    "Write a function called augment_function with two parameters named function and decorators. decorators will be a list of functions which will have the same signature as the previous functions (print_arguments, multiply_output). augment_function will create a new function which is augmented using all the functions in the decorators list.\n",
    "***"
   ]
  },
  {
   "cell_type": "markdown",
   "metadata": {},
   "source": [
    "Example:"
   ]
  },
  {
   "cell_type": "code",
   "execution_count": 34,
   "metadata": {},
   "outputs": [],
   "source": [
    "def add_numbers(a, b):\n",
    "    return a + b\n",
    "\n",
    "decorated_function = augment_function(add_numbers, [print_arguments, multiply_output]) \n",
    "\n",
    "x = decorated_function(3, 4) # this will print: Arguments are: (3, 4), {} and will return (2 * (3 + 4))"
   ]
  },
  {
   "cell_type": "markdown",
   "metadata": {},
   "source": [
    "Solution:"
   ]
  },
  {
   "cell_type": "code",
   "execution_count": 35,
   "metadata": {},
   "outputs": [],
   "source": [
    "def augment_function(function, list):\n",
    "    return function"
   ]
  },
  {
   "cell_type": "markdown",
   "metadata": {},
   "source": [
    "## Exercise 9"
   ]
  },
  {
   "cell_type": "markdown",
   "metadata": {},
   "source": [
    "***\n",
    "Write a function that receives a list of pairs of integers (tuples with 2 elements) as parameter (named pairs). The function should return a list of dictionaries for each pair (in the same order as in the input list) that contain the following keys (as strings): sum (the value should be sum of the 2 numbers), prod (the value should be product of the two numbers), pow (the value should be the first number raised to the power of the second number) \n",
    "***"
   ]
  },
  {
   "cell_type": "markdown",
   "metadata": {},
   "source": [
    "Example:"
   ]
  },
  {
   "cell_type": "code",
   "execution_count": 37,
   "metadata": {},
   "outputs": [
    {
     "name": "stdout",
     "output_type": "stream",
     "text": [
      "\n"
     ]
    }
   ],
   "source": [
    "f9(pairs = [(5, 2), (19, 1), (30, 6), (2, 2)] )\n",
    "\n",
    "# will return \n",
    "# [\n",
    "# {'sum': 7, 'prod': 10, 'pow': 25},\n",
    "# {'sum': 20, 'prod': 19, 'pow': 19}, \n",
    "# {'sum': 36, 'prod': 180, 'pow': 729000000}, \n",
    "# {'sum': 4, 'prod': 4, 'pow': 4}\n",
    "# ] "
   ]
  },
  {
   "cell_type": "markdown",
   "metadata": {},
   "source": [
    "Solution:"
   ]
  },
  {
   "cell_type": "code",
   "execution_count": 38,
   "metadata": {},
   "outputs": [],
   "source": [
    "def f9(pairs):\n",
    "    print()"
   ]
  },
  {
   "cell_type": "markdown",
   "metadata": {},
   "source": [
    "## Exercise 10"
   ]
  },
  {
   "cell_type": "markdown",
   "metadata": {},
   "source": [
    "***\n",
    "\n",
    "***"
   ]
  },
  {
   "cell_type": "markdown",
   "metadata": {},
   "source": [
    "Example:"
   ]
  },
  {
   "cell_type": "code",
   "execution_count": null,
   "metadata": {},
   "outputs": [],
   "source": []
  },
  {
   "cell_type": "markdown",
   "metadata": {},
   "source": [
    "Solution:"
   ]
  },
  {
   "cell_type": "code",
   "execution_count": null,
   "metadata": {},
   "outputs": [],
   "source": []
  }
 ],
 "metadata": {
  "kernelspec": {
   "display_name": "Python 3.9.13 64-bit (microsoft store)",
   "language": "python",
   "name": "python3"
  },
  "language_info": {
   "codemirror_mode": {
    "name": "ipython",
    "version": 3
   },
   "file_extension": ".py",
   "mimetype": "text/x-python",
   "name": "python",
   "nbconvert_exporter": "python",
   "pygments_lexer": "ipython3",
   "version": "3.9.13"
  },
  "orig_nbformat": 4,
  "vscode": {
   "interpreter": {
    "hash": "bf75068fc0a92c8943419a81fa5d494501cbc9abc3d6baa21b77ee9da992efe7"
   }
  }
 },
 "nbformat": 4,
 "nbformat_minor": 2
}
